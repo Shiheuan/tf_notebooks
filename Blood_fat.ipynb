{
 "cells": [
  {
   "cell_type": "markdown",
   "metadata": {},
   "source": [
    "# Linear Regression - Blood fat\n",
    "\n",
    "the dataset is from [HERE](http://people.sc.fsu.edu/~jburkardt/datasets/regression/regression.html)"
   ]
  },
  {
   "cell_type": "code",
   "execution_count": 15,
   "metadata": {},
   "outputs": [],
   "source": [
    "import tensorflow as tf"
   ]
  },
  {
   "cell_type": "code",
   "execution_count": 16,
   "metadata": {},
   "outputs": [],
   "source": [
    "# variables \n",
    "W = tf.Variable(tf.zeros([2, 1]), name=\"weights\")\n",
    "b = tf.Variable(0., name=\"bias\")"
   ]
  },
  {
   "cell_type": "code",
   "execution_count": 17,
   "metadata": {},
   "outputs": [],
   "source": [
    "def inference(X):\n",
    "    return tf.matmul(X, W) + b"
   ]
  },
  {
   "cell_type": "code",
   "execution_count": 18,
   "metadata": {},
   "outputs": [],
   "source": [
    "def loss(X, Y):\n",
    "    Y_predicted = inference(X)\n",
    "    return tf.reduce_sum(tf.squared_difference(Y, Y_predicted))"
   ]
  },
  {
   "cell_type": "code",
   "execution_count": 20,
   "metadata": {},
   "outputs": [
    {
     "ename": "NameError",
     "evalue": "name 'blood_fat_content' is not defined",
     "output_type": "error",
     "traceback": [
      "\u001b[1;31m---------------------------------------------------------------------------\u001b[0m",
      "\u001b[1;31mNameError\u001b[0m                                 Traceback (most recent call last)",
      "\u001b[1;32m<ipython-input-20-967769ed1ac4>\u001b[0m in \u001b[0;36m<module>\u001b[1;34m()\u001b[0m\n\u001b[0;32m     12\u001b[0m     \u001b[1;31m# return tf.to_float(weight_age), tf.to_float(blood_fat_content)\u001b[0m\u001b[1;33m\u001b[0m\u001b[1;33m\u001b[0m\u001b[0m\n\u001b[0;32m     13\u001b[0m     \u001b[1;32mreturn\u001b[0m \u001b[0mtf\u001b[0m\u001b[1;33m.\u001b[0m\u001b[0mcast\u001b[0m\u001b[1;33m(\u001b[0m\u001b[0mweight_age\u001b[0m\u001b[1;33m,\u001b[0m \u001b[0mdtype\u001b[0m\u001b[1;33m=\u001b[0m\u001b[0mtf\u001b[0m\u001b[1;33m.\u001b[0m\u001b[0mfloat32\u001b[0m\u001b[1;33m)\u001b[0m\u001b[1;33m,\u001b[0m\u001b[1;33m\u001b[0m\u001b[0m\n\u001b[1;32m---> 14\u001b[1;33m \u001b[0mtf\u001b[0m\u001b[1;33m.\u001b[0m\u001b[0mcast\u001b[0m\u001b[1;33m(\u001b[0m\u001b[0mblood_fat_content\u001b[0m\u001b[1;33m,\u001b[0m \u001b[0mdtype\u001b[0m\u001b[1;33m=\u001b[0m\u001b[0mtf\u001b[0m\u001b[1;33m.\u001b[0m\u001b[0mfloat32\u001b[0m\u001b[1;33m)\u001b[0m\u001b[1;33m\u001b[0m\u001b[0m\n\u001b[0m",
      "\u001b[1;31mNameError\u001b[0m: name 'blood_fat_content' is not defined"
     ]
    }
   ],
   "source": [
    "def inputs():\n",
    "    weight_age = [[84, 46], [73, 20], [65, 52], [70, 30], [76, 57], \n",
    "                  [69, 25], [63, 28], [72, 36], [79, 57], [75, 44], \n",
    "                  [27, 24], [89, 31], [65, 52], [57, 23], [59, 60], \n",
    "                  [69, 48], [60, 34], [79, 51], [75, 50], [82, 34], \n",
    "                  [59, 46], [67, 23], [85, 37], [55, 40], [63, 30]]\n",
    "    blood_fat_content = [354, 190, 405, 263, 451, \n",
    "                         302, 288, 385, 402, 365, \n",
    "                         209, 290, 346, 254, 395, \n",
    "                         434, 220, 374, 308, 220, \n",
    "                         311, 181, 274, 303, 244]\n",
    "    # return tf.to_float(weight_age), tf.to_float(blood_fat_content)\n",
    "    return [tf.cast(weight_age, dtype=tf.float32), tf.cast(blood_fat_content, dtype=tf.float32)"
   ]
  },
  {
   "cell_type": "code",
   "execution_count": 11,
   "metadata": {},
   "outputs": [],
   "source": [
    "def train(total_loss):\n",
    "    learning_rate = 0.0000001\n",
    "    return tf.train.GradientDescentOptimizer(learning_rate).minimize(total_loss)"
   ]
  },
  {
   "cell_type": "code",
   "execution_count": 12,
   "metadata": {},
   "outputs": [],
   "source": [
    "def evaluate(sess, X, Y):\n",
    "    print(sess.run(inference([[82., 25.]])))"
   ]
  },
  {
   "cell_type": "code",
   "execution_count": 14,
   "metadata": {},
   "outputs": [
    {
     "name": "stdout",
     "output_type": "stream",
     "text": [
      "loss:  [7608772.5]\n",
      "loss:  [5352849.5]\n",
      "loss:  [5350043.5]\n",
      "loss:  [5347918.5]\n",
      "loss:  [5346300.5]\n",
      "loss:  [5345062.0]\n",
      "loss:  [5344106.0]\n",
      "loss:  [5343361.0]\n",
      "loss:  [5342774.5]\n",
      "loss:  [5342306.0]\n",
      "loss:  [5341925.5]\n",
      "loss:  [5341611.5]\n",
      "loss:  [5341345.0]\n",
      "loss:  [5341115.5]\n",
      "loss:  [5340913.0]\n",
      "loss:  [5340733.0]\n",
      "loss:  [5340566.5]\n",
      "loss:  [5340413.5]\n",
      "loss:  [5340268.0]\n",
      "loss:  [5340128.0]\n",
      "loss:  [5339993.0]\n",
      "loss:  [5339860.5]\n",
      "loss:  [5339733.5]\n",
      "loss:  [5339606.0]\n",
      "loss:  [5339481.5]\n",
      "loss:  [5339358.0]\n",
      "loss:  [5339234.5]\n",
      "loss:  [5339112.0]\n",
      "loss:  [5338989.5]\n",
      "loss:  [5338869.0]\n",
      "loss:  [5338747.0]\n",
      "loss:  [5338624.5]\n",
      "loss:  [5338504.5]\n",
      "loss:  [5338384.0]\n",
      "loss:  [5338262.0]\n",
      "loss:  [5338141.0]\n",
      "loss:  [5338022.5]\n",
      "loss:  [5337900.5]\n",
      "loss:  [5337780.0]\n",
      "loss:  [5337661.0]\n",
      "loss:  [5337538.5]\n",
      "loss:  [5337418.5]\n",
      "loss:  [5337297.5]\n",
      "loss:  [5337177.5]\n",
      "loss:  [5337056.5]\n",
      "loss:  [5336936.5]\n",
      "loss:  [5336815.0]\n",
      "loss:  [5336695.5]\n",
      "loss:  [5336575.0]\n",
      "loss:  [5336455.0]\n",
      "loss:  [5336334.0]\n",
      "loss:  [5336213.0]\n",
      "loss:  [5336092.5]\n",
      "loss:  [5335973.0]\n",
      "loss:  [5335852.5]\n",
      "loss:  [5335732.5]\n",
      "loss:  [5335611.5]\n",
      "loss:  [5335491.5]\n",
      "loss:  [5335370.5]\n",
      "loss:  [5335250.0]\n",
      "loss:  [5335129.5]\n",
      "loss:  [5335009.0]\n",
      "loss:  [5334889.0]\n",
      "loss:  [5334768.5]\n",
      "loss:  [5334647.0]\n",
      "loss:  [5334526.5]\n",
      "loss:  [5334409.0]\n",
      "loss:  [5334287.0]\n",
      "loss:  [5334166.5]\n",
      "loss:  [5334047.5]\n",
      "loss:  [5333926.0]\n",
      "loss:  [5333806.0]\n",
      "loss:  [5333685.5]\n",
      "loss:  [5333565.0]\n",
      "loss:  [5333446.0]\n",
      "loss:  [5333325.0]\n",
      "loss:  [5333204.5]\n",
      "loss:  [5333085.0]\n",
      "loss:  [5332965.0]\n",
      "loss:  [5332844.5]\n",
      "loss:  [5332724.0]\n",
      "loss:  [5332603.5]\n",
      "loss:  [5332485.0]\n",
      "loss:  [5332363.0]\n",
      "loss:  [5332243.5]\n",
      "loss:  [5332123.5]\n",
      "loss:  [5332002.5]\n",
      "loss:  [5331883.5]\n",
      "loss:  [5331763.0]\n",
      "loss:  [5331642.0]\n",
      "loss:  [5331524.0]\n",
      "loss:  [5331403.5]\n",
      "loss:  [5331282.5]\n",
      "loss:  [5331162.0]\n",
      "loss:  [5331042.0]\n",
      "loss:  [5330922.5]\n",
      "loss:  [5330802.5]\n",
      "loss:  [5330681.5]\n",
      "loss:  [5330562.5]\n",
      "loss:  [5330442.5]\n",
      "[[327.69873]]\n"
     ]
    }
   ],
   "source": [
    "# Session\n",
    "with tf.Session() as sess:\n",
    "    tf.global_variables_initializer().run()\n",
    "    \n",
    "    X, Y = inputs()\n",
    "    \n",
    "    total_loss = loss(X, Y)\n",
    "    train_op = train(total_loss)\n",
    "    \n",
    "    coord = tf.train.Coordinator()\n",
    "    threads = tf.train.start_queue_runners(sess=sess, coord=coord)\n",
    "    \n",
    "    # 实际训练迭代次数\n",
    "    training_steps = 1000\n",
    "    for step in range(training_steps):\n",
    "        sess.run([train_op])\n",
    "        # 出于调试和学习的目的，查看损失在训练过程中递减的情况\n",
    "        if step % 10 == 0:\n",
    "            print(\"loss: \", sess.run([total_loss]))\n",
    "    \n",
    "    evaluate(sess, X, Y)\n",
    "    \n",
    "    coord.request_stop()\n",
    "    coord.join(threads)\n",
    "    sess.close()"
   ]
  },
  {
   "cell_type": "code",
   "execution_count": null,
   "metadata": {},
   "outputs": [],
   "source": []
  }
 ],
 "metadata": {
  "kernelspec": {
   "display_name": "Python [conda env:mlfd]",
   "language": "python",
   "name": "conda-env-mlfd-py"
  },
  "language_info": {
   "codemirror_mode": {
    "name": "ipython",
    "version": 3
   },
   "file_extension": ".py",
   "mimetype": "text/x-python",
   "name": "python",
   "nbconvert_exporter": "python",
   "pygments_lexer": "ipython3",
   "version": "3.6.6"
  }
 },
 "nbformat": 4,
 "nbformat_minor": 2
}
