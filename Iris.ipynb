{
 "cells": [
  {
   "cell_type": "code",
   "execution_count": 16,
   "metadata": {},
   "outputs": [],
   "source": [
    "import tensorflow as tf\n",
    "import os"
   ]
  },
  {
   "cell_type": "code",
   "execution_count": 17,
   "metadata": {},
   "outputs": [],
   "source": [
    "# Variables\n",
    "W = tf.Variable(tf.zeros([4, 3]), name=\"weights\")\n",
    "b = tf.Variable(tf.zeros([3]), name=\"bias\")"
   ]
  },
  {
   "cell_type": "code",
   "execution_count": 18,
   "metadata": {},
   "outputs": [],
   "source": [
    "def combine_input(X):\n",
    "    return tf.matmul(X, W) + b"
   ]
  },
  {
   "cell_type": "code",
   "execution_count": 19,
   "metadata": {},
   "outputs": [],
   "source": [
    "def inference(X):\n",
    "    return tf.nn.softmax(combine_input(X))"
   ]
  },
  {
   "cell_type": "code",
   "execution_count": 20,
   "metadata": {},
   "outputs": [],
   "source": [
    "def loss(X, Y):\n",
    "    return tf.reduce_mean(tf.nn.sparse_softmax_cross_entropy_with_logits(labels=Y, logits=combine_input(X)))"
   ]
  },
  {
   "cell_type": "code",
   "execution_count": 32,
   "metadata": {},
   "outputs": [],
   "source": [
    "def read_csv(batch_size, file_name, record_defaults):\n",
    "    # filename_queue = tf.train.string_input_producer([os.path.dirname(__file__) + \"/datasets/Iris/\" + file_name])\n",
    "    filename_queue = tf.train.string_input_producer([os.getcwd() + \"/datasets/Iris/\" + file_name])\n",
    "\n",
    "        \n",
    "    reader = tf.TextLineReader(skip_header_lines=1)\n",
    "    key, value = reader.read(filename_queue)\n",
    "    \n",
    "    # 数据文件中不得有空格，导致错误 Expect 5 fields but have 0 in record 0\n",
    "    decoded = tf.decode_csv(value, record_defaults=record_defaults)\n",
    "    \n",
    "    return tf.train.shuffle_batch(decoded, batch_size=batch_size, capacity=batch_size*50, min_after_dequeue=batch_size)"
   ]
  },
  {
   "cell_type": "code",
   "execution_count": 33,
   "metadata": {},
   "outputs": [],
   "source": [
    "def inputs():\n",
    "    sepal_length, sepal_width, petal_length, petal_width, label = \\\n",
    "        read_csv(100, \"iris.data\", [[0.0], [0.0], [0.0], [0.0], [\"\"]])\n",
    "    label_number = tf.to_int32(tf.argmax(tf.to_int32(tf.stack([\n",
    "        tf.equal(label, [\"Iras-setosa\"]),\n",
    "        tf.equal(label, [\"Iras-versicolor\"]),\n",
    "        tf.equal(label, [\"Iras-verginica\"])\n",
    "    ])), 0))\n",
    "    # 为什么加上0\n",
    "    \n",
    "    features = tf.transpose(tf.stack([sepal_length, sepal_width, petal_length, petal_width]))\n",
    "    return features, label_number"
   ]
  },
  {
   "cell_type": "code",
   "execution_count": 34,
   "metadata": {},
   "outputs": [],
   "source": [
    "def train(total_loss):\n",
    "    learning_rate = 0.01\n",
    "    return tf.train.GradientDescentOptimizer(learning_rate).minimize(total_loss)"
   ]
  },
  {
   "cell_type": "code",
   "execution_count": 35,
   "metadata": {},
   "outputs": [],
   "source": [
    "def evaluate(sess, X, Y):\n",
    "    predicted = tf.cast(tf.arg_max(inference(X),1), tf.int32)\n",
    "    print(sess.run(tf.reduce_mean(tf.cast(tf.equal(predicted, Y), tf.float32))))"
   ]
  },
  {
   "cell_type": "code",
   "execution_count": 37,
   "metadata": {},
   "outputs": [
    {
     "name": "stdout",
     "output_type": "stream",
     "text": [
      "loss:  [0.7543695]\n",
      "loss:  [0.12879914]\n",
      "loss:  [0.077960745]\n",
      "loss:  [0.039993946]\n",
      "loss:  [0.035650834]\n",
      "loss:  [0.033608414]\n",
      "loss:  [0.023581915]\n",
      "loss:  [0.019823916]\n",
      "loss:  [0.01680941]\n",
      "loss:  [0.018071966]\n",
      "loss:  [0.015662894]\n",
      "loss:  [0.012717009]\n",
      "loss:  [0.012551411]\n",
      "loss:  [0.012821569]\n",
      "loss:  [0.010764234]\n",
      "loss:  [0.011153067]\n",
      "loss:  [0.0075856578]\n",
      "loss:  [0.008880767]\n",
      "loss:  [0.008010131]\n",
      "loss:  [0.008034318]\n",
      "loss:  [0.009094037]\n",
      "loss:  [0.0065321154]\n",
      "loss:  [0.007109667]\n",
      "loss:  [0.0075289183]\n",
      "loss:  [0.0059227855]\n",
      "loss:  [0.0069184713]\n",
      "loss:  [0.0061617075]\n",
      "loss:  [0.005739308]\n",
      "loss:  [0.005588323]\n",
      "loss:  [0.0045098583]\n",
      "loss:  [0.0049349717]\n",
      "loss:  [0.0054517672]\n",
      "loss:  [0.0046364926]\n",
      "loss:  [0.0053009056]\n",
      "loss:  [0.003927271]\n",
      "loss:  [0.004378805]\n",
      "loss:  [0.004901467]\n",
      "loss:  [0.0039172997]\n",
      "loss:  [0.003965969]\n",
      "loss:  [0.0047602197]\n",
      "loss:  [0.003693986]\n",
      "loss:  [0.004093641]\n",
      "loss:  [0.0032287147]\n",
      "loss:  [0.0040862365]\n",
      "loss:  [0.0040523806]\n",
      "loss:  [0.003256374]\n",
      "loss:  [0.0033431007]\n",
      "loss:  [0.0028403604]\n",
      "loss:  [0.0029567154]\n",
      "loss:  [0.0038344127]\n",
      "loss:  [0.0028250874]\n",
      "loss:  [0.0031160468]\n",
      "loss:  [0.003260491]\n",
      "loss:  [0.0034268284]\n",
      "loss:  [0.0034872324]\n",
      "loss:  [0.002598241]\n",
      "loss:  [0.0024930965]\n",
      "loss:  [0.0029804835]\n",
      "loss:  [0.002146805]\n",
      "loss:  [0.0029392282]\n",
      "loss:  [0.0028041177]\n",
      "loss:  [0.002214686]\n",
      "loss:  [0.0027823008]\n",
      "loss:  [0.002323269]\n",
      "loss:  [0.0026301686]\n",
      "loss:  [0.002535864]\n",
      "loss:  [0.0024001757]\n",
      "loss:  [0.0027251816]\n",
      "loss:  [0.0019379874]\n",
      "loss:  [0.0024293188]\n",
      "loss:  [0.002405647]\n",
      "loss:  [0.0022059847]\n",
      "loss:  [0.002051081]\n",
      "loss:  [0.0021214643]\n",
      "loss:  [0.002207353]\n",
      "loss:  [0.0024262103]\n",
      "loss:  [0.0019768714]\n",
      "loss:  [0.0019402873]\n",
      "loss:  [0.0022093682]\n",
      "loss:  [0.0018744108]\n",
      "loss:  [0.0022398839]\n",
      "loss:  [0.002041619]\n",
      "loss:  [0.001992087]\n",
      "loss:  [0.002177275]\n",
      "loss:  [0.0018086755]\n",
      "loss:  [0.0019339032]\n",
      "loss:  [0.0023291009]\n",
      "loss:  [0.0015063272]\n",
      "loss:  [0.0022334151]\n",
      "loss:  [0.001918869]\n",
      "loss:  [0.0014478937]\n",
      "loss:  [0.001769095]\n",
      "loss:  [0.0017363693]\n",
      "loss:  [0.0017177137]\n",
      "loss:  [0.001700826]\n",
      "loss:  [0.0017422986]\n",
      "loss:  [0.0017972531]\n",
      "loss:  [0.0014281431]\n",
      "loss:  [0.0017655853]\n",
      "loss:  [0.0017311934]\n",
      "1.0\n"
     ]
    }
   ],
   "source": [
    "# Session\n",
    "with tf.Session() as sess:\n",
    "    tf.global_variables_initializer().run()\n",
    "    \n",
    "    X, Y = inputs()\n",
    "    \n",
    "    total_loss = loss(X, Y)\n",
    "    train_op = train(total_loss)\n",
    "    \n",
    "    coord = tf.train.Coordinator()\n",
    "    threads = tf.train.start_queue_runners(sess=sess, coord=coord)\n",
    "    \n",
    "    # 实际训练迭代次数\n",
    "    training_steps = 1000\n",
    "    for step in range(training_steps):\n",
    "        sess.run([train_op])\n",
    "        # 出于调试和学习的目的，查看损失在训练过程中递减的情况\n",
    "        if step % 10 == 0:\n",
    "            print(\"loss: \", sess.run([total_loss]))\n",
    "    \n",
    "    evaluate(sess, X, Y)\n",
    "    \n",
    "    coord.request_stop()\n",
    "    coord.join(threads)\n",
    "    sess.close()"
   ]
  },
  {
   "cell_type": "code",
   "execution_count": null,
   "metadata": {},
   "outputs": [],
   "source": []
  }
 ],
 "metadata": {
  "kernelspec": {
   "display_name": "Python [conda env:mlfd]",
   "language": "python",
   "name": "conda-env-mlfd-py"
  },
  "language_info": {
   "codemirror_mode": {
    "name": "ipython",
    "version": 3
   },
   "file_extension": ".py",
   "mimetype": "text/x-python",
   "name": "python",
   "nbconvert_exporter": "python",
   "pygments_lexer": "ipython3",
   "version": "3.6.6"
  }
 },
 "nbformat": 4,
 "nbformat_minor": 2
}
